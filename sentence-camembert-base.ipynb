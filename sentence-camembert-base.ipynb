{
 "cells": [
  {
   "cell_type": "code",
   "execution_count": 139,
   "id": "e09f88d3",
   "metadata": {},
   "outputs": [],
   "source": [
    "from sentence_transformers import SentenceTransformer\n",
    "from langchain.document_loaders import PyPDFLoader\n",
    "from sklearn.metrics.pairwise import cosine_similarity\n",
    "import time"
   ]
  },
  {
   "cell_type": "code",
   "execution_count": null,
   "id": "ce3eff4d",
   "metadata": {},
   "outputs": [],
   "source": [
    "model =  SentenceTransformer(\"dangvantuan/sentence-camembert-base\")"
   ]
  },
  {
   "cell_type": "code",
   "execution_count": 140,
   "id": "85467b26",
   "metadata": {},
   "outputs": [],
   "source": [
    "path_chap4 = \"\"\n",
    "path_chap33 = \"\""
   ]
  },
  {
   "cell_type": "code",
   "execution_count": 141,
   "id": "95840216",
   "metadata": {},
   "outputs": [],
   "source": [
    "paths = [path_chap4, path_chap33]\n",
    "loaders = []\n",
    "for path in paths:\n",
    "  loaders.append(PyPDFLoader(path))"
   ]
  },
  {
   "cell_type": "code",
   "execution_count": 142,
   "id": "cab64d01",
   "metadata": {},
   "outputs": [],
   "source": [
    "document = []\n",
    "for loader in loaders:\n",
    "  document.extend(loader.load())"
   ]
  },
  {
   "cell_type": "code",
   "execution_count": 143,
   "id": "f87e255c",
   "metadata": {},
   "outputs": [],
   "source": [
    "doc = []\n",
    "for i in range(len(document)):\n",
    "    firstpart, secondpart = document[i].page_content[:len(document[i].page_content)//2], document[i].page_content[len(document[i].page_content)//2:]\n",
    "    if (len(firstpart) or len(secondpart) != 0):\n",
    "        doc.append(firstpart)\n",
    "        doc.append(secondpart)"
   ]
  },
  {
   "cell_type": "code",
   "execution_count": null,
   "id": "d7ae8f9f",
   "metadata": {
    "collapsed": true
   },
   "outputs": [],
   "source": [
    "doc"
   ]
  },
  {
   "cell_type": "markdown",
   "id": "0b24214e",
   "metadata": {},
   "source": [
    "# Embed Corpus"
   ]
  },
  {
   "cell_type": "code",
   "execution_count": 146,
   "id": "49ead855",
   "metadata": {},
   "outputs": [],
   "source": [
    "start = time.time()\n",
    "corpus_embeddings = model.encode(doc)\n",
    "end = time.time()"
   ]
  },
  {
   "cell_type": "code",
   "execution_count": 147,
   "id": "b0a3b1de",
   "metadata": {},
   "outputs": [
    {
     "name": "stdout",
     "output_type": "stream",
     "text": [
      "1.7607617378234863\n"
     ]
    }
   ],
   "source": [
    "print(end-start)"
   ]
  },
  {
   "cell_type": "code",
   "execution_count": 148,
   "id": "504e43d3",
   "metadata": {
    "scrolled": true
   },
   "outputs": [
    {
     "data": {
      "text/plain": [
       "array([[ 0.0365066 ,  0.02416969,  0.01272693, ..., -0.00528995,\n",
       "         0.07726508,  0.0841065 ],\n",
       "       [-0.05503515,  0.03174418,  0.10671198, ..., -0.06531332,\n",
       "         0.06938392,  0.02913106],\n",
       "       [-0.03711544, -0.10954937, -0.06667554, ...,  0.08111404,\n",
       "         0.07483519,  0.0250304 ],\n",
       "       ...,\n",
       "       [ 0.06077068,  0.0478485 ,  0.03472702, ...,  0.04173059,\n",
       "         0.13272114,  0.03140427],\n",
       "       [ 0.04218913, -0.11138716,  0.0915517 , ...,  0.0607506 ,\n",
       "         0.09256912,  0.08933248],\n",
       "       [ 0.08391162,  0.03973236,  0.04495587, ...,  0.00936253,\n",
       "         0.0791582 ,  0.08532292]], dtype=float32)"
      ]
     },
     "execution_count": 148,
     "metadata": {},
     "output_type": "execute_result"
    }
   ],
   "source": [
    "corpus_embeddings"
   ]
  },
  {
   "cell_type": "markdown",
   "id": "fa467c3d",
   "metadata": {},
   "source": [
    "# Embed Query"
   ]
  },
  {
   "cell_type": "code",
   "execution_count": 51,
   "id": "97a61349",
   "metadata": {},
   "outputs": [],
   "source": [
    "query = \"Comment sont conduites les études organisationnelles et humaines sur le terrain ?\""
   ]
  },
  {
   "cell_type": "code",
   "execution_count": 105,
   "id": "c91c1580",
   "metadata": {},
   "outputs": [],
   "source": [
    "query = \"Quelle est l'influence de l'incident de mars 2002 ?\""
   ]
  },
  {
   "cell_type": "code",
   "execution_count": 168,
   "id": "49765ef4",
   "metadata": {},
   "outputs": [],
   "source": [
    "query = \"Quelles sont les caractéritiques de l'état d'une installation ?\""
   ]
  },
  {
   "cell_type": "code",
   "execution_count": 169,
   "id": "e3810bf0",
   "metadata": {},
   "outputs": [],
   "source": [
    "query_embedding = model.encode(query)"
   ]
  },
  {
   "cell_type": "code",
   "execution_count": 170,
   "id": "c244447d",
   "metadata": {
    "collapsed": true
   },
   "outputs": [
    {
     "data": {
      "text/plain": [
       "array([ 1.79900602e-02,  1.61599983e-02,  8.43081623e-02, -7.17683211e-02,\n",
       "       -1.22219600e-01,  3.17805856e-02, -1.39479086e-01,  1.26359249e-02,\n",
       "        5.41415662e-02, -4.72096391e-02,  6.09276555e-02,  3.10581252e-02,\n",
       "       -1.07411534e-01,  1.79610662e-02,  1.83318630e-02, -7.01066107e-02,\n",
       "        1.68308377e-01, -1.61661193e-01,  6.41094148e-02, -2.54820555e-01,\n",
       "        1.54312514e-02, -9.64239538e-02, -1.35880947e-01,  1.94857225e-01,\n",
       "        8.92991126e-02,  4.38509397e-02,  7.57375807e-02, -2.98391115e-02,\n",
       "        1.32174492e-02, -2.45870277e-01,  5.70621677e-02, -5.17939329e-02,\n",
       "       -8.60612933e-03, -1.75552055e-01,  1.15408354e-01, -4.56207665e-03,\n",
       "       -1.43230595e-02, -1.31762713e-01, -9.41984877e-02, -2.28906870e-01,\n",
       "        2.44101305e-02, -6.30334318e-02,  5.20799309e-04, -2.90756021e-02,\n",
       "        7.95048028e-02, -1.11561723e-01, -1.41981423e-01, -2.02307403e-02,\n",
       "        1.07164726e-01,  1.57701746e-02, -5.69566041e-02, -2.72452068e-02,\n",
       "       -4.23376895e-02, -1.87183190e-02,  1.10696694e-02, -3.49175446e-02,\n",
       "       -8.33503902e-02, -3.10721070e-01,  1.86594382e-01,  2.64626608e-04,\n",
       "        6.04142360e-02,  2.92215776e-02,  7.52312243e-02, -5.10298507e-03,\n",
       "        1.60581052e-01,  6.09392859e-02, -3.02333198e-02,  1.08866710e-02,\n",
       "        6.45592362e-02, -2.03465715e-01,  9.87191349e-02,  6.53386861e-02,\n",
       "        5.84856458e-02,  4.01790068e-02,  1.49923861e-02,  4.65230346e-02,\n",
       "       -2.18907028e-01,  1.41184002e-01,  2.08026022e-01, -1.25879377e-01,\n",
       "        9.51022059e-02,  2.51429174e-02, -4.91244085e-02,  6.41843975e-02,\n",
       "       -7.87383616e-02,  5.49923033e-02, -2.36188304e-02,  1.29210934e-01,\n",
       "        3.54357883e-02,  5.96928075e-02, -5.11864806e-03, -1.14182442e-01,\n",
       "       -9.69387665e-02, -5.10135330e-02, -1.42423630e-01, -1.11306325e-01,\n",
       "        1.16640832e-02, -4.48029302e-02,  1.31631196e-01, -9.68554243e-02,\n",
       "        1.88639209e-01, -1.78413138e-01, -1.22367382e-01,  4.22372892e-02,\n",
       "        4.34157699e-02,  1.92981157e-02,  2.37970259e-02, -6.87578842e-02,\n",
       "        2.22845674e-02,  7.77368844e-02, -3.91562469e-02,  1.81725323e-01,\n",
       "       -1.41913876e-01, -7.35093057e-02, -8.96914005e-02,  1.29672825e-01,\n",
       "        2.33209617e-02,  1.68862902e-02,  2.47083932e-01, -6.46525770e-02,\n",
       "       -1.21559061e-01,  5.67916185e-02, -4.97935228e-02,  1.40063213e-02,\n",
       "        5.55707095e-03, -1.16279311e-01, -3.68574709e-02, -4.02344875e-02,\n",
       "        1.70994997e-02,  2.33376607e-01,  1.29759545e-02,  1.16354888e-02,\n",
       "       -1.15114003e-01, -1.28112242e-01,  1.18365966e-01, -9.51517932e-03,\n",
       "        9.16926935e-03, -4.40337099e-02, -4.59421724e-02,  3.73240858e-02,\n",
       "        8.91320780e-02, -4.15584911e-03, -2.57464708e-03, -2.73736492e-02,\n",
       "        7.84736052e-02,  2.52379090e-01, -1.16492204e-01,  8.64860266e-02,\n",
       "       -1.90891363e-02, -3.91097963e-02, -2.21623899e-03,  2.84251943e-02,\n",
       "       -3.80301178e-02, -1.30965367e-01, -1.18932210e-01, -1.12850770e-01,\n",
       "        3.43510620e-02,  1.09116144e-01,  3.29771824e-02,  1.81312934e-01,\n",
       "       -3.88900377e-02,  2.14289263e-01,  2.04803079e-01, -1.78597569e-02,\n",
       "        9.86011792e-03,  7.27585033e-02,  2.07193896e-01,  1.78919658e-02,\n",
       "       -1.13990866e-01,  1.76026344e-01, -7.21030384e-02,  9.36952829e-02,\n",
       "       -4.51739319e-02,  3.79326679e-02, -1.63685367e-01, -2.35864848e-01,\n",
       "        2.57140040e-01,  8.45007449e-02,  2.37078190e-01,  2.05871448e-01,\n",
       "       -1.17373466e-01,  3.85147333e-02, -1.87420875e-01, -1.57753646e-01,\n",
       "        9.69251916e-02, -8.64920467e-02,  6.35179281e-02,  1.45941257e-01,\n",
       "        2.51503974e-01, -2.80566663e-01, -1.93897307e-01, -1.50606811e-01,\n",
       "        6.89850673e-02, -1.72647953e-01,  1.25547320e-01,  2.48379540e-02,\n",
       "        1.22819925e-04,  9.56262648e-02,  1.10503435e-01, -1.21630756e-02,\n",
       "        5.10658361e-02,  3.04339062e-02,  4.77565862e-02,  1.66251332e-01,\n",
       "       -1.32033646e-01,  2.39162922e-01,  1.00173846e-01, -5.65020703e-02,\n",
       "        1.21359244e-01,  6.87436685e-02, -1.36244610e-01, -1.38175815e-01,\n",
       "        2.51943409e-01, -4.91742939e-02, -1.19740302e-02,  5.85540533e-02,\n",
       "        4.63323705e-02,  3.04576624e-02, -7.95953814e-03,  1.23481363e-01,\n",
       "       -1.00945339e-01, -1.21895403e-01,  1.02997363e-01,  1.27476752e-01,\n",
       "       -1.43600833e-02, -2.15605963e-02, -3.05256918e-02,  6.76076189e-02,\n",
       "       -7.57229999e-02,  2.32721642e-01,  5.28720114e-03,  8.59375298e-02,\n",
       "        1.88529611e-01, -1.92348901e-02,  8.81141797e-02, -6.69822544e-02,\n",
       "        5.19070737e-02,  3.59159708e-03, -7.24900365e-02, -6.90035075e-02,\n",
       "       -7.91752115e-02,  1.34853929e-01, -1.67502612e-01,  1.98486537e-01,\n",
       "       -1.86534226e-02, -3.86529788e-03,  4.78419103e-02,  3.50386463e-02,\n",
       "        1.63669780e-01,  4.84664887e-02,  6.84807124e-03,  2.79388502e-02,\n",
       "       -7.69177973e-02,  1.25232920e-01,  3.13070491e-02, -2.18041435e-01,\n",
       "        1.42129093e-01, -1.62824780e-01,  3.12562108e-01,  1.03119701e-01,\n",
       "        1.86219111e-01,  1.05167307e-01,  2.14087665e-01,  2.51551773e-02,\n",
       "       -1.35878071e-01,  8.79946426e-02,  2.48983037e-02,  1.16248764e-01,\n",
       "        1.87618360e-01,  1.96058024e-02, -2.30753317e-01, -1.22871347e-01,\n",
       "       -1.69372261e-02,  2.73424550e-03,  2.34600574e-01, -5.44856116e-02,\n",
       "        1.69347078e-01,  8.67846236e-03,  1.71727575e-02,  1.36830762e-01,\n",
       "       -9.91567820e-02, -4.42191809e-02,  3.72142829e-02, -2.60196496e-02,\n",
       "        1.96991563e-01,  1.75890736e-02, -8.84968340e-02,  1.64177835e-01,\n",
       "       -4.99520265e-03,  1.27370870e-02, -2.19134204e-02, -1.57293826e-02,\n",
       "       -1.15243115e-01, -1.19991034e-01, -5.33956252e-02,  1.46560057e-03,\n",
       "       -1.42324697e-02,  2.72571594e-02,  9.47831944e-02,  8.23455155e-02,\n",
       "       -1.04051083e-04,  7.19643012e-02,  4.46853787e-02,  2.03365982e-01,\n",
       "        1.50197940e-02,  2.07149610e-02, -2.04907153e-02, -3.95258842e-03,\n",
       "        1.73596427e-01, -2.82223165e-01, -9.37039033e-02,  1.76345967e-02,\n",
       "        4.89390269e-02,  7.42046311e-02,  1.09023951e-01, -3.23846564e-02,\n",
       "        7.47397989e-02,  3.86536643e-02,  1.55188382e-01,  1.09230019e-02,\n",
       "        3.41987908e-02, -2.53219247e-01, -1.12172231e-01,  2.09491956e-03,\n",
       "       -4.05803509e-02, -4.70051030e-03, -1.38337627e-01, -9.24701151e-03,\n",
       "       -6.41979277e-04, -5.61786816e-03, -1.34434372e-01,  7.44661987e-02,\n",
       "        7.33284578e-02,  7.85678923e-02, -1.36069193e-01,  1.34506058e-02,\n",
       "        1.67113021e-02, -1.28792539e-01,  7.56692588e-02,  1.22421533e-01,\n",
       "       -5.24490960e-02, -1.17688335e-01, -1.89450949e-01,  7.63401091e-02,\n",
       "        1.17026530e-02, -1.43401064e-02, -1.95241477e-02, -4.58373018e-02,\n",
       "       -4.11350373e-03,  1.64266735e-01,  3.18459347e-02, -2.64576793e-01,\n",
       "        1.40445054e-01,  7.93574750e-02, -4.85010222e-02, -6.02245927e-02,\n",
       "        6.66057244e-02, -1.50106847e-01, -1.03327990e-01,  1.13664337e-01,\n",
       "        8.45033079e-02,  2.14321628e-01,  8.22469518e-02, -5.07562496e-02,\n",
       "        1.01034597e-01,  9.89353061e-02, -6.19020080e-03,  2.82726083e-02,\n",
       "        1.00222327e-01,  3.94402146e-02,  7.08145052e-02, -6.33285344e-02,\n",
       "       -7.60128647e-02, -2.81892344e-02, -4.81966399e-02,  1.18709259e-01,\n",
       "       -1.28837004e-01, -9.59953070e-02,  2.68749744e-01, -2.94046011e-02,\n",
       "       -2.13369038e-02, -2.68786890e-03,  2.39932507e-01,  6.36133179e-03,\n",
       "       -1.45035014e-01,  1.19327851e-01,  6.70829117e-02,  1.22734375e-01,\n",
       "       -8.27323571e-02,  3.47254947e-02,  4.64826562e-02, -8.58449638e-02,\n",
       "        1.39593542e-01,  1.54673457e-01, -2.11868510e-02,  1.93560608e-02,\n",
       "       -1.07458103e-02,  1.95385292e-02,  1.10937737e-01,  1.96876794e-01,\n",
       "        6.85054362e-02,  1.08625824e-02, -7.63734952e-02,  7.44902790e-02,\n",
       "        7.73952231e-02, -4.65062447e-02,  1.90623730e-01,  6.72512427e-02,\n",
       "       -9.35813040e-02, -2.83461008e-02, -7.11287931e-02,  4.77073900e-02,\n",
       "       -1.18453175e-01,  1.32008716e-01,  3.30900699e-02, -2.28920463e-03,\n",
       "        2.71551274e-02, -4.06536832e-02, -2.02967152e-02, -1.98100403e-01,\n",
       "        5.95110841e-02,  4.09646407e-02,  1.47129595e-01, -7.51007050e-02,\n",
       "        1.53146461e-01, -1.50814950e-01, -3.37988362e-02, -2.10589002e-04,\n",
       "       -2.55883243e-02, -6.27236366e-02, -9.81960446e-02, -8.02521035e-02,\n",
       "       -7.72547722e-03, -1.32914320e-01, -1.32708192e-01,  1.36672959e-01,\n",
       "        1.04816929e-01, -6.62400052e-02,  9.30136144e-02,  1.28327668e-01,\n",
       "       -1.39249787e-01, -6.52353987e-02,  2.78627072e-02,  1.26748413e-01,\n",
       "        3.98747772e-02,  1.24031849e-01, -8.74452442e-02,  8.18474442e-02,\n",
       "        9.42757502e-02, -3.10565438e-02, -3.22196595e-02, -5.95614165e-02,\n",
       "       -1.83796540e-01, -5.31404167e-02,  2.88769603e-02, -9.07640159e-02,\n",
       "        4.96083573e-02,  4.60411981e-02,  8.61404985e-02, -3.17235328e-02,\n",
       "       -1.40695989e-01, -7.04944432e-02,  5.59647009e-02,  1.25274852e-01,\n",
       "        4.08370309e-02, -2.32362807e-01,  7.09721223e-02, -3.79880182e-02,\n",
       "        5.02891988e-02,  7.78718963e-02,  6.70765936e-02,  8.77431110e-02,\n",
       "        2.05438025e-02,  1.36740133e-01,  7.15609491e-02, -2.71937490e-01,\n",
       "        1.66142330e-01, -1.67698741e-01, -1.18863851e-01,  7.98642635e-02,\n",
       "        1.20625019e-01, -1.50294648e-02, -9.19302460e-03, -9.46145877e-02,\n",
       "        1.53888673e-01, -7.16338605e-02, -2.73199771e-02,  4.79711294e-02,\n",
       "        1.13801241e-01, -6.00256659e-02, -4.82211588e-03,  1.48314089e-02,\n",
       "        8.49888399e-02,  1.16106629e-01,  2.15856824e-02, -5.85950948e-02,\n",
       "       -1.51975051e-01, -2.16507111e-02,  6.21131510e-02,  5.64964078e-02,\n",
       "       -1.85867488e-01, -1.07781120e-01,  1.76538572e-01,  2.64298975e-01,\n",
       "        7.91184008e-02,  8.18788037e-02,  7.74894208e-02,  1.30442781e-02,\n",
       "       -7.15159550e-02,  1.00816675e-01,  4.31677513e-02,  1.60151109e-01,\n",
       "       -2.48704806e-01,  7.49286190e-02, -9.17385966e-02, -2.46973351e-01,\n",
       "       -1.54849827e-01, -5.21623939e-02,  3.71804982e-02, -2.29809061e-02,\n",
       "        1.69506475e-01, -1.02835983e-01,  1.48517370e-01, -2.80941039e-01,\n",
       "       -9.57820937e-02,  1.16414271e-01,  1.14019170e-01,  1.85099900e-01,\n",
       "        2.24667322e-02,  1.47421313e-02,  1.51248956e-02,  1.89804256e-01,\n",
       "       -1.74836755e-01, -1.50439441e-02,  1.24276027e-01,  5.60339540e-02,\n",
       "       -2.89054781e-01, -4.06876169e-02,  1.33526623e-01,  1.80510044e-01,\n",
       "        3.03448201e-03, -1.85248838e-03,  2.94138622e-02, -1.78274175e-04,\n",
       "       -1.71313107e-01,  6.36567250e-02, -3.32095809e-02,  6.82402551e-02,\n",
       "       -1.33878708e-01,  1.06581390e-01,  1.47068083e-01, -6.28070831e-02,\n",
       "       -1.06867298e-01, -1.14099570e-01,  1.11066759e-01,  3.81102748e-02,\n",
       "        6.37071133e-02,  1.96997114e-02,  4.27004807e-02,  5.87880611e-02,\n",
       "        8.07748660e-02,  7.58367628e-02,  1.00130767e-01, -4.75257561e-02,\n",
       "       -1.33893654e-01, -2.86515187e-02, -4.60763872e-02, -3.96599695e-02,\n",
       "        8.52997974e-02, -1.11398369e-01,  2.30142400e-02,  1.67753994e-02,\n",
       "       -1.85534284e-01,  2.73287922e-01, -1.33654267e-01, -3.42524499e-02,\n",
       "       -8.75135362e-02,  3.11026964e-02,  1.26274630e-01,  7.81308934e-02,\n",
       "        3.61455157e-02, -1.27822682e-01, -9.49750748e-03, -1.06630363e-02,\n",
       "       -1.06210284e-01,  3.26927751e-02, -3.60420253e-03,  2.28047639e-01,\n",
       "       -9.70776975e-02, -1.56484067e-01, -1.32025123e-01,  1.20747834e-01,\n",
       "       -4.22352366e-02,  8.04556999e-03, -1.58129513e-01,  4.55850884e-02,\n",
       "       -1.51681565e-02,  1.03336088e-02,  9.25835073e-02, -5.93485050e-02,\n",
       "        1.98888779e-02,  1.67088002e-01, -3.46508548e-02, -4.06679325e-02,\n",
       "       -1.97039768e-02,  4.91625816e-03,  1.69943869e-01,  8.09936412e-03,\n",
       "        6.72008470e-02,  6.43708706e-02,  4.27969508e-02, -9.10930932e-02,\n",
       "       -2.97544394e-02, -2.92788520e-02,  1.45702779e-01, -4.37953323e-02,\n",
       "       -1.49900362e-01, -4.73775789e-02,  8.92523155e-02, -1.11178756e-02,\n",
       "        4.93662208e-02,  1.54952984e-02,  5.56233190e-02,  1.40878558e-01,\n",
       "        2.96757687e-02,  1.30794033e-01, -6.49596155e-02,  2.50114258e-02,\n",
       "       -3.35289687e-02,  1.38683924e-02,  1.07120443e-02,  1.18957132e-01,\n",
       "        4.76117879e-02, -4.44932096e-03, -1.17367677e-01, -6.19392321e-02,\n",
       "        1.05298840e-01, -6.02070950e-02, -2.30109751e-01, -4.81287315e-02,\n",
       "       -2.61621308e-02,  1.79938450e-01, -4.83531766e-02,  1.49603307e-01,\n",
       "        2.61376593e-02, -4.23723608e-02,  2.25797489e-01,  1.11693278e-01,\n",
       "       -1.45932967e-02, -1.08191505e-01,  2.36940570e-02,  1.61967203e-02,\n",
       "        1.66421100e-01,  2.10256264e-01, -4.28213030e-02,  3.71561199e-02,\n",
       "        1.27070114e-01,  8.10315013e-02, -6.35146052e-02,  9.55269206e-03,\n",
       "        2.79010013e-02,  1.19645938e-01,  1.67046413e-01, -4.89947610e-02,\n",
       "       -6.93651736e-02, -4.97485846e-02, -1.47832602e-01,  3.81591055e-03,\n",
       "       -4.95936722e-02,  2.07866296e-01, -1.94083191e-02,  5.00834808e-02,\n",
       "       -2.79777721e-02, -1.32256329e-01, -1.02250434e-01,  1.49977338e-02,\n",
       "       -2.84090806e-02, -1.25686973e-01,  5.51253259e-02,  3.02640200e-02,\n",
       "        1.74187794e-02, -1.54494077e-01, -2.94467807e-02,  2.72908341e-02,\n",
       "        8.61215144e-02,  2.69634016e-02, -1.98592782e-01, -1.06499180e-01,\n",
       "       -1.97915047e-01,  3.87816466e-02, -1.05337344e-01,  5.52307256e-02,\n",
       "       -2.85847709e-02,  3.60580087e-01,  6.37362432e-03, -4.37272005e-02,\n",
       "        1.79331992e-02, -1.43589824e-02, -1.01954140e-01,  7.32831955e-02,\n",
       "        1.89417168e-01,  8.90472438e-03, -1.09664217e-01, -2.54467372e-02,\n",
       "       -6.93599880e-02, -1.00451641e-01, -1.51148168e-04, -2.70657800e-02,\n",
       "       -1.39913246e-01, -1.54121116e-01, -1.43616796e-01, -1.57822639e-01,\n",
       "        8.08097422e-03,  7.33598843e-02, -6.39427602e-02,  2.94884052e-02,\n",
       "        5.89723885e-03,  7.92052448e-02, -1.81028783e-01,  3.31495330e-02,\n",
       "        1.45726889e-01, -3.36987436e-01,  1.25089198e-01,  4.28794548e-02,\n",
       "        1.18545227e-01, -3.50037999e-02,  7.58457482e-02, -4.85923216e-02,\n",
       "        1.03957385e-01, -9.06556621e-02, -8.62897113e-02, -3.00899744e-02,\n",
       "        9.97975096e-02,  2.47832853e-03, -1.09755538e-01, -1.39190346e-01,\n",
       "       -7.75806084e-02, -4.82604839e-02,  1.57848820e-02,  1.44044399e-01,\n",
       "        8.94950330e-02,  3.29104252e-02,  4.20974977e-02,  2.02185903e-02,\n",
       "        2.17736617e-01,  7.56709203e-02, -9.71635282e-02,  2.88695190e-02,\n",
       "        2.20520422e-02, -2.33600751e-01,  1.67498395e-01,  9.26281959e-02,\n",
       "        1.39051482e-01, -5.08281477e-02, -1.82774458e-02,  5.11153974e-02,\n",
       "       -1.26771089e-02,  1.09284818e-01,  6.93055317e-02, -2.77972426e-02,\n",
       "       -2.22112074e-01,  8.20923448e-02, -1.14830256e-01, -5.90602905e-02,\n",
       "        6.90094009e-02,  1.12270266e-01,  1.14414364e-01,  5.77936023e-02],\n",
       "      dtype=float32)"
      ]
     },
     "execution_count": 170,
     "metadata": {},
     "output_type": "execute_result"
    }
   ],
   "source": [
    "query_embedding"
   ]
  },
  {
   "cell_type": "markdown",
   "id": "274fbd7e",
   "metadata": {},
   "source": [
    "# Cosine Similarities"
   ]
  },
  {
   "cell_type": "code",
   "execution_count": 171,
   "id": "c8fbe3ea",
   "metadata": {},
   "outputs": [],
   "source": [
    "similarities = cosine_similarity(query_embedding.reshape(1, -1), corpus_embeddings)"
   ]
  },
  {
   "cell_type": "code",
   "execution_count": 109,
   "id": "ce6fd403",
   "metadata": {},
   "outputs": [
    {
     "data": {
      "text/plain": [
       "array([[ 0.16961162,  0.15760873,  0.20167403,  0.12725616,  0.22877002,\n",
       "         0.17466374,  0.14239818,  0.12102249,  0.18933313,  0.19488996,\n",
       "         0.23263079,  0.37644696,  0.21227227,  0.20112044,  0.20605871,\n",
       "         0.10805633,  0.04596473,  0.11493517,  0.24680917,  0.15653881,\n",
       "         0.11105223, -0.08302328,  0.19110394,  0.18170974,  0.14089544,\n",
       "         0.13447474,  0.19842564,  0.1674348 ,  0.0993365 ,  0.0752909 ,\n",
       "         0.28740546,  0.19306383,  0.20137307,  0.17581198,  0.24359483,\n",
       "         0.21665555,  0.1404782 ,  0.19656554,  0.14901266,  0.20416817,\n",
       "         0.12463602,  0.15587655,  0.21827447,  0.1565031 ,  0.24000418,\n",
       "         0.10321765,  0.16260149,  0.1336617 ,  0.20535527,  0.17352694]],\n",
       "      dtype=float32)"
      ]
     },
     "execution_count": 109,
     "metadata": {},
     "output_type": "execute_result"
    }
   ],
   "source": [
    "similarities"
   ]
  },
  {
   "cell_type": "markdown",
   "id": "f07dfec0",
   "metadata": {},
   "source": [
    "# Plot"
   ]
  },
  {
   "cell_type": "code",
   "execution_count": 110,
   "id": "037ef78d",
   "metadata": {},
   "outputs": [],
   "source": [
    "# The function is not provided yet\n",
    "import scatter_plot_chunk_query as d"
   ]
  },
  {
   "cell_type": "code",
   "execution_count": 172,
   "id": "61c01cf2",
   "metadata": {},
   "outputs": [],
   "source": [
    "y = similarities[0]\n",
    "x = range(len(y))"
   ]
  },
  {
   "cell_type": "code",
   "execution_count": 173,
   "id": "b53158e9",
   "metadata": {},
   "outputs": [],
   "source": [
    "chunk = ''"
   ]
  },
  {
   "cell_type": "code",
   "execution_count": 174,
   "id": "b580c025",
   "metadata": {
    "scrolled": false
   },
   "outputs": [
    {
     "data": {
      "image/png": "[encoded data removed]",
      "text/plain": [
       "<Figure size 640x480 with 1 Axes>"
      ]
     },
     "metadata": {},
     "output_type": "display_data"
    }
   ],
   "source": [
    "d.print_scatter_plot_domainquery(x, y, chunk, query)"
   ]
  },
  {
   "cell_type": "markdown",
   "id": "5b50b4ea",
   "metadata": {},
   "source": [
    "# Top K"
   ]
  },
  {
   "cell_type": "code",
   "execution_count": 114,
   "id": "48eef816",
   "metadata": {},
   "outputs": [],
   "source": [
    "import numpy as np\n",
    "import matplotlib.pyplot as plt"
   ]
  },
  {
   "cell_type": "markdown",
   "id": "799d2ce3",
   "metadata": {},
   "source": [
    "### Top 5"
   ]
  },
  {
   "cell_type": "code",
   "execution_count": 175,
   "id": "d9b5707f",
   "metadata": {
    "scrolled": true
   },
   "outputs": [],
   "source": [
    "index_max = np.argsort(similarities[0])[::-1]"
   ]
  },
  {
   "cell_type": "code",
   "execution_count": 176,
   "id": "57c2c2bf",
   "metadata": {},
   "outputs": [
    {
     "data": {
      "text/plain": [
       "array([44, 28, 34, 37, 12])"
      ]
     },
     "execution_count": 176,
     "metadata": {},
     "output_type": "execute_result"
    }
   ],
   "source": [
    "index_max[:5]"
   ]
  },
  {
   "cell_type": "code",
   "execution_count": 177,
   "id": "a68fa8b6",
   "metadata": {},
   "outputs": [],
   "source": [
    "top_5 = similarities[0,index_max[:5]]"
   ]
  },
  {
   "cell_type": "code",
   "execution_count": 178,
   "id": "16a15313",
   "metadata": {},
   "outputs": [
    {
     "data": {
      "text/plain": [
       "array([0.3506914, 0.3469647, 0.3362579, 0.3285337, 0.300857 ],\n",
       "      dtype=float32)"
      ]
     },
     "execution_count": 178,
     "metadata": {},
     "output_type": "execute_result"
    }
   ],
   "source": [
    "top_5"
   ]
  },
  {
   "cell_type": "markdown",
   "id": "9fecef72",
   "metadata": {},
   "source": [
    "### Min 5"
   ]
  },
  {
   "cell_type": "code",
   "execution_count": 150,
   "id": "35512980",
   "metadata": {
    "scrolled": true
   },
   "outputs": [],
   "source": [
    "index_min = np.argsort(similarities[0])"
   ]
  },
  {
   "cell_type": "code",
   "execution_count": 151,
   "id": "42408c2b",
   "metadata": {},
   "outputs": [
    {
     "data": {
      "text/plain": [
       "array([21, 16, 29, 28, 45])"
      ]
     },
     "execution_count": 151,
     "metadata": {},
     "output_type": "execute_result"
    }
   ],
   "source": [
    "index_min[:5]"
   ]
  },
  {
   "cell_type": "code",
   "execution_count": 152,
   "id": "c8803f54",
   "metadata": {},
   "outputs": [],
   "source": [
    "min_5 = similarities[0,index_min[:5]]"
   ]
  },
  {
   "cell_type": "code",
   "execution_count": 153,
   "id": "27d2806b",
   "metadata": {
    "scrolled": false
   },
   "outputs": [
    {
     "data": {
      "text/plain": [
       "array([-0.08302328,  0.04596473,  0.0752909 ,  0.0993365 ,  0.10321765],\n",
       "      dtype=float32)"
      ]
     },
     "execution_count": 153,
     "metadata": {},
     "output_type": "execute_result"
    }
   ],
   "source": [
    "min_5"
   ]
  },
  {
   "cell_type": "markdown",
   "id": "91b77433",
   "metadata": {},
   "source": [
    "## Print Top 5 Chunks for Comparison"
   ]
  },
  {
   "cell_type": "code",
   "execution_count": null,
   "id": "295cc0a3",
   "metadata": {
    "scrolled": false
   },
   "outputs": [],
   "source": [
    "for chunk in index_max[:5]:\n",
    "    print(query)\n",
    "    print(\"CHUNK NUMBER \", chunk)\n",
    "    print(\"------------------------\")\n",
    "    print(doc[chunk])\n",
    "    print(\"---------------------------------------------------------------------\")"
   ]
  }
 ],
 "metadata": {
  "kernelspec": {
   "display_name": "Python 3 (ipykernel)",
   "language": "python",
   "name": "python3"
  },
  "language_info": {
   "codemirror_mode": {
    "name": "ipython",
    "version": 3
   },
   "file_extension": ".py",
   "mimetype": "text/x-python",
   "name": "python",
   "nbconvert_exporter": "python",
   "pygments_lexer": "ipython3",
   "version": "3.9.17"
  }
 },
 "nbformat": 4,
 "nbformat_minor": 5
}
